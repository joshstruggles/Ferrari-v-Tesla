{
  "nbformat": 4,
  "nbformat_minor": 0,
  "metadata": {
    "colab": {
      "provenance": [],
      "authorship_tag": "ABX9TyPG7hT8idR4G2D9LXC662JE"
    },
    "kernelspec": {
      "name": "python3",
      "display_name": "Python 3"
    },
    "language_info": {
      "name": "python"
    }
  },
  "cells": [
    {
      "cell_type": "markdown",
      "source": [
        "# Ferrari Stock vs. Tesla Stock\n",
        "\n",
        "## Business Problem:\n",
        "Both car manufacturers Ferrari and Tesla are publicly traded companies, but if we consider the public image that these two companies have taken on over the lifetime of their careers, we should be able to determine which car company has in effect been more \"successful\" longterm and what circumstances may or may not influence public image of each car company.\n",
        "\n",
        "## Exploratory Data Analysis"
      ],
      "metadata": {
        "id": "qBv8QwECgC76"
      }
    },
    {
      "cell_type": "code",
      "source": [
        "# import pandas and datasets\n",
        "import pandas as pd"
      ],
      "metadata": {
        "id": "w6k43DB7ifjt"
      },
      "execution_count": null,
      "outputs": []
    }
  ]
}